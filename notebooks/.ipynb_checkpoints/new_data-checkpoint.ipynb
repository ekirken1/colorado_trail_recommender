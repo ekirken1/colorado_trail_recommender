{
 "cells": [
  {
   "cell_type": "code",
   "execution_count": 2,
   "metadata": {},
   "outputs": [
    {
     "name": "stdout",
     "output_type": "stream",
     "text": [
      "/Users/annierumbles/Desktop/Coding/galvanize/third_capstone_live\n"
     ]
    }
   ],
   "source": [
    "cd .."
   ]
  },
  {
   "cell_type": "code",
   "execution_count": 16,
   "metadata": {},
   "outputs": [],
   "source": [
    "import random, json\n",
    "import pandas as pd \n",
    "import numpy as np \n",
    "import matplotlib.pyplot as plt \n",
    "from src.stopwords_class import StopWords\n",
    "from src.nlp_pipeline import *\n",
    "from src.data_cleaning_nlp import clean_hikes, make_corpus_df, get_corpus_info, get_top_words_tf\n",
    "\n",
    "random.seed(9)\n",
    "plt.style.use('ggplot')"
   ]
  },
  {
   "cell_type": "code",
   "execution_count": 6,
   "metadata": {},
   "outputs": [],
   "source": [
    "stop = StopWords()\n",
    "stop_words = stop.all_words"
   ]
  },
  {
   "cell_type": "code",
   "execution_count": 9,
   "metadata": {},
   "outputs": [],
   "source": [
    "index, documents = get_corpus_info('data/raw_colorado_hikes.json', name='name')"
   ]
  },
  {
   "cell_type": "code",
   "execution_count": 25,
   "metadata": {},
   "outputs": [],
   "source": [
    "df_raw = pd.read_json('data/raw_colorado_hikes.json', lines=True)"
   ]
  },
  {
   "cell_type": "code",
   "execution_count": 28,
   "metadata": {},
   "outputs": [],
   "source": [
    "df_raw.drop('_id', axis=1,inplace=True)"
   ]
  },
  {
   "cell_type": "code",
   "execution_count": 31,
   "metadata": {},
   "outputs": [],
   "source": [
    "df_raw.set_index('name', inplace=True)"
   ]
  },
  {
   "cell_type": "code",
   "execution_count": 111,
   "metadata": {},
   "outputs": [
    {
     "name": "stdout",
     "output_type": "stream",
     "text": [
      "<class 'pandas.core.frame.DataFrame'>\n",
      "Index: 4021 entries, Royal Arch Trail to Two Brands and Black Bear Trail [CLOSED]\n",
      "Data columns (total 12 columns):\n",
      " #   Column                 Non-Null Count  Dtype  \n",
      "---  ------                 --------------  -----  \n",
      " 0   url                    4021 non-null   object \n",
      " 1   difficulty             4021 non-null   object \n",
      " 2   hike_type              4021 non-null   object \n",
      " 3   avg_rating             4021 non-null   float64\n",
      " 4   number_ratings         4021 non-null   int64  \n",
      " 5   location               4021 non-null   object \n",
      " 6   distance               4021 non-null   float64\n",
      " 7   elevation              4021 non-null   float64\n",
      " 8   tags                   4021 non-null   object \n",
      " 9   main_description       4021 non-null   object \n",
      " 10  secondary_description  1886 non-null   object \n",
      " 11  reviews                3936 non-null   object \n",
      "dtypes: float64(3), int64(1), object(8)\n",
      "memory usage: 568.4+ KB\n"
     ]
    }
   ],
   "source": [
    "df_raw.info()"
   ]
  },
  {
   "cell_type": "code",
   "execution_count": 128,
   "metadata": {},
   "outputs": [],
   "source": [
    "data = df_raw['reviews']\n",
    "descs = df_raw['main_description']\n",
    "rows = []\n",
    "docs = []\n",
    "for i in range(len(data)):\n",
    "    row_name = data.index[i]\n",
    "    document = ''\n",
    "    if data[i] is not None:\n",
    "        for k, v in data[i].items():\n",
    "            if type(v) == list:\n",
    "                document += (v[2].strip().replace('\\n', ' ') + ' ')\n",
    "        docs.append(document)\n",
    "        rows.append(row_name)\n",
    "    else:\n",
    "        docs.append(document)\n",
    "        rows.append(row_name)\n"
   ]
  },
  {
   "cell_type": "code",
   "execution_count": 130,
   "metadata": {},
   "outputs": [
    {
     "data": {
      "text/html": [
       "<div>\n",
       "<style scoped>\n",
       "    .dataframe tbody tr th:only-of-type {\n",
       "        vertical-align: middle;\n",
       "    }\n",
       "\n",
       "    .dataframe tbody tr th {\n",
       "        vertical-align: top;\n",
       "    }\n",
       "\n",
       "    .dataframe thead th {\n",
       "        text-align: right;\n",
       "    }\n",
       "</style>\n",
       "<table border=\"1\" class=\"dataframe\">\n",
       "  <thead>\n",
       "    <tr style=\"text-align: right;\">\n",
       "      <th></th>\n",
       "      <th>reviews</th>\n",
       "    </tr>\n",
       "  </thead>\n",
       "  <tbody>\n",
       "    <tr>\n",
       "      <th>Royal Arch Trail</th>\n",
       "      <td>Beautiful hike - be sure to get there early as...</td>\n",
       "    </tr>\n",
       "    <tr>\n",
       "      <th>Chavez and Beaver Brook Trail Loop</th>\n",
       "      <td>Good trail, but for first timers it can get a ...</td>\n",
       "    </tr>\n",
       "    <tr>\n",
       "      <th>Hanging Lake Trail  [CLOSED]</th>\n",
       "      <td>FYI to all the hopeful hikers: \"PERMITS TO HIK...</td>\n",
       "    </tr>\n",
       "    <tr>\n",
       "      <th>Lost Lake via Hessie Trail</th>\n",
       "      <td>Great trail!   Do be aware towards the last ha...</td>\n",
       "    </tr>\n",
       "    <tr>\n",
       "      <th>Mount Bierstadt Trail</th>\n",
       "      <td>Road is totally closed! Theres no way up! Did ...</td>\n",
       "    </tr>\n",
       "  </tbody>\n",
       "</table>\n",
       "</div>"
      ],
      "text/plain": [
       "                                                                              reviews\n",
       "Royal Arch Trail                    Beautiful hike - be sure to get there early as...\n",
       "Chavez and Beaver Brook Trail Loop  Good trail, but for first timers it can get a ...\n",
       "Hanging Lake Trail  [CLOSED]        FYI to all the hopeful hikers: \"PERMITS TO HIK...\n",
       "Lost Lake via Hessie Trail          Great trail!   Do be aware towards the last ha...\n",
       "Mount Bierstadt Trail               Road is totally closed! Theres no way up! Did ..."
      ]
     },
     "execution_count": 130,
     "metadata": {},
     "output_type": "execute_result"
    }
   ],
   "source": [
    "df_corpus = make_corpus_df(rows, docs)\n",
    "df_corpus.head()"
   ]
  },
  {
   "cell_type": "code",
   "execution_count": 118,
   "metadata": {},
   "outputs": [
    {
     "data": {
      "text/plain": [
       "name\n",
       "Royal Arch Trail                                 Royal Arch Trail is a 4 mile heavily trafficke...\n",
       "Chavez and Beaver Brook Trail Loop               Chavez and Beaver Brook Trail Loop is a 5.1 mi...\n",
       "Hanging Lake Trail  [CLOSED]                     Hanging Lake Trail  is a 3 mile heavily traffi...\n",
       "Lost Lake via Hessie Trail                       Lost Lake via Hessie Trail is a 4.4 mile heavi...\n",
       "Mount Bierstadt Trail                            Mount Bierstadt Trail is a 6.8 mile heavily tr...\n",
       "                                                                       ...                        \n",
       "Flat Irons North and Prairie Vista Loop Trail    Flat Irons North and Prairie Vista Loop Trail ...\n",
       "Bear Creek to Bruin Bluff and Creekside Trail    Bear Creek to Bruin Bluff and Creekside Trail ...\n",
       "Poudre Trail                                     Poudre Trail  is a 3.9 mile moderately traffic...\n",
       "Homestead, Silver Fox, and Ponderosa Loop        Homestead, Silver Fox, and Ponderosa Loop is a...\n",
       "Two Brands and Black Bear Trail [CLOSED]         Two Brands and Black Bear Trail is a 15 mile m...\n",
       "Name: main_description, Length: 4021, dtype: object"
      ]
     },
     "execution_count": 118,
     "metadata": {},
     "output_type": "execute_result"
    }
   ],
   "source": [
    "descs = df_raw['main_description']\n",
    "descs"
   ]
  },
  {
   "cell_type": "code",
   "execution_count": null,
   "metadata": {},
   "outputs": [],
   "source": []
  },
  {
   "cell_type": "code",
   "execution_count": null,
   "metadata": {},
   "outputs": [],
   "source": []
  },
  {
   "cell_type": "code",
   "execution_count": null,
   "metadata": {},
   "outputs": [],
   "source": []
  },
  {
   "cell_type": "code",
   "execution_count": null,
   "metadata": {},
   "outputs": [],
   "source": []
  }
 ],
 "metadata": {
  "kernelspec": {
   "display_name": "Python 3",
   "language": "python",
   "name": "python3"
  },
  "language_info": {
   "codemirror_mode": {
    "name": "ipython",
    "version": 3
   },
   "file_extension": ".py",
   "mimetype": "text/x-python",
   "name": "python",
   "nbconvert_exporter": "python",
   "pygments_lexer": "ipython3",
   "version": "3.7.1"
  }
 },
 "nbformat": 4,
 "nbformat_minor": 4
}
